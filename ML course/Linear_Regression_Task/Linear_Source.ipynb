{
 "cells": [
  {
   "cell_type": "code",
   "execution_count": 1,
   "metadata": {},
   "outputs": [],
   "source": [
    "import numpy as np\n",
    "import pandas as pd"
   ]
  },
  {
   "cell_type": "code",
   "execution_count": 2,
   "metadata": {},
   "outputs": [],
   "source": [
    "# deleted kmpl, CC, bhp , in microfodt excel\n",
    "# and \n",
    "# converted fuel,seller_type,transmission,owner to numerical values\n",
    "# CNG=10,   LPG=20,     Deisel=30,      Petrol=40\n",
    "# Dealer=10,     Individual=20,     trustmark dealer=30\n",
    "# automatic = 10,      Manual= 20\n",
    "# testdrive=10    ,1owner=20,     2owner=30,      3owner=40,  4ownerandmore=50"
   ]
  },
  {
   "cell_type": "code",
   "execution_count": 3,
   "metadata": {},
   "outputs": [
    {
     "name": "stdout",
     "output_type": "stream",
     "text": [
      "                              name  year  selling_price  km_driven  fuel  \\\n",
      "0           Maruti Swift Dzire VDI  2014         450000     145500    30   \n",
      "1     Skoda Rapid 1.5 TDI Ambition  2014         370000     120000    30   \n",
      "2         Honda City 2017-2020 EXi  2006         158000     140000    40   \n",
      "3            Hyundai i20 Sportz 30  2010         225000     127000    30   \n",
      "4           Maruti Swift VXI BSIII  2007         130000     120000    40   \n",
      "...                            ...   ...            ...        ...   ...   \n",
      "8123             Hyundai i20 Magna  2013         320000     110000    40   \n",
      "8124         Hyundai Verna CRDi SX  2007         135000     119000    30   \n",
      "8125        Maruti Swift Dzire ZDi  2009         382000     120000    30   \n",
      "8126               Tata Indigo CR4  2013         290000      25000    30   \n",
      "8127               Tata Indigo CR4  2013         290000      25000    30   \n",
      "\n",
      "      seller_type  transmission  owner  mileage  engine  max_power  \\\n",
      "0              20            20     20    23.40  1248.0      74.00   \n",
      "1              20            20     30    21.14  1498.0     103.52   \n",
      "2              20            20     40    17.70  1497.0      78.00   \n",
      "3              20            20     20    23.00  1396.0      90.00   \n",
      "4              20            20     20    16.10  1298.0      88.20   \n",
      "...           ...           ...    ...      ...     ...        ...   \n",
      "8123           20            20     20    18.50  1197.0      82.85   \n",
      "8124           20            20     50    16.80  1493.0     110.00   \n",
      "8125           20            20     20    19.30  1248.0      73.90   \n",
      "8126           20            20     20    23.57  1396.0      70.00   \n",
      "8127           20            20     20    23.57  1396.0      70.00   \n",
      "\n",
      "                         torque  seats  \n",
      "0                190Nm@ 2000rpm    5.0  \n",
      "1           250Nm@ 1500-2500rpm    5.0  \n",
      "2         12.7@ 2,700(kgm@ rpm)    5.0  \n",
      "3      22.4 kgm at 1750-2750rpm    5.0  \n",
      "4         11.5@ 4,500(kgm@ rpm)    5.0  \n",
      "...                         ...    ...  \n",
      "8123           113.7Nm@ 4000rpm    5.0  \n",
      "8124  24@ 1,900-2,750(kgm@ rpm)    5.0  \n",
      "8125             190Nm@ 2000rpm    5.0  \n",
      "8126        140Nm@ 1800-3000rpm    5.0  \n",
      "8127        140Nm@ 1800-3000rpm    5.0  \n",
      "\n",
      "[8128 rows x 13 columns]\n"
     ]
    }
   ],
   "source": [
    "data = pd.read_csv(\"car_price_edited.csv\")\n",
    "print(data)"
   ]
  },
  {
   "cell_type": "code",
   "execution_count": 4,
   "metadata": {},
   "outputs": [
    {
     "name": "stdout",
     "output_type": "stream",
     "text": [
      "      year  km_driven  fuel  seller_type  transmission  owner  mileage  \\\n",
      "0     2014     145500    30           20            20     20    23.40   \n",
      "1     2014     120000    30           20            20     30    21.14   \n",
      "2     2006     140000    40           20            20     40    17.70   \n",
      "3     2010     127000    30           20            20     20    23.00   \n",
      "4     2007     120000    40           20            20     20    16.10   \n",
      "...    ...        ...   ...          ...           ...    ...      ...   \n",
      "8123  2013     110000    40           20            20     20    18.50   \n",
      "8124  2007     119000    30           20            20     50    16.80   \n",
      "8125  2009     120000    30           20            20     20    19.30   \n",
      "8126  2013      25000    30           20            20     20    23.57   \n",
      "8127  2013      25000    30           20            20     20    23.57   \n",
      "\n",
      "      engine  max_power  seats  \n",
      "0     1248.0      74.00    5.0  \n",
      "1     1498.0     103.52    5.0  \n",
      "2     1497.0      78.00    5.0  \n",
      "3     1396.0      90.00    5.0  \n",
      "4     1298.0      88.20    5.0  \n",
      "...      ...        ...    ...  \n",
      "8123  1197.0      82.85    5.0  \n",
      "8124  1493.0     110.00    5.0  \n",
      "8125  1248.0      73.90    5.0  \n",
      "8126  1396.0      70.00    5.0  \n",
      "8127  1396.0      70.00    5.0  \n",
      "\n",
      "[7906 rows x 10 columns]\n",
      "0       450000\n",
      "1       370000\n",
      "2       158000\n",
      "3       225000\n",
      "4       130000\n",
      "         ...  \n",
      "8123    320000\n",
      "8124    135000\n",
      "8125    382000\n",
      "8126    290000\n",
      "8127    290000\n",
      "Name: selling_price, Length: 7906, dtype: int64\n"
     ]
    }
   ],
   "source": [
    "data = pd.read_csv(\"car_price_edited.csv\")\n",
    "# deleted name column\n",
    "data = data.drop(['name'],axis=1)\n",
    "# deleted torque colimn cause rn i dont know how to deal with that\n",
    "data = data.drop(['torque'],axis=1)\n",
    "# drop all rows/training examples with some null values rn i dont know how to deal with that\n",
    "data = data.dropna(axis=0)\n",
    "#store selling price in datay and drop it from data\n",
    "datay = data['selling_price']\n",
    "data = data.drop(['selling_price'],axis =1)\n",
    "print(data)\n",
    "print(datay)"
   ]
  },
  {
   "cell_type": "code",
   "execution_count": 5,
   "metadata": {},
   "outputs": [
    {
     "name": "stdout",
     "output_type": "stream",
     "text": [
      "[[1.0000e+00 2.0140e+03 1.4550e+05 ... 1.2480e+03 7.4000e+01 5.0000e+00]\n",
      " [1.0000e+00 2.0140e+03 1.2000e+05 ... 1.4980e+03 1.0352e+02 5.0000e+00]\n",
      " [1.0000e+00 2.0060e+03 1.4000e+05 ... 1.4970e+03 7.8000e+01 5.0000e+00]\n",
      " ...\n",
      " [1.0000e+00 2.0090e+03 1.2000e+05 ... 1.2480e+03 7.3900e+01 5.0000e+00]\n",
      " [1.0000e+00 2.0130e+03 2.5000e+04 ... 1.3960e+03 7.0000e+01 5.0000e+00]\n",
      " [1.0000e+00 2.0130e+03 2.5000e+04 ... 1.3960e+03 7.0000e+01 5.0000e+00]]\n",
      "[450000 370000 158000 ... 382000 290000 290000]\n"
     ]
    }
   ],
   "source": [
    "#converting to numpy array\n",
    "x = data.to_numpy()\n",
    "y = datay.to_numpy()\n",
    "x0= np.ones((x.shape[0],1))\n",
    "x = np.hstack((x0,x))\n",
    "print(x)\n",
    "print(y)"
   ]
  },
  {
   "cell_type": "code",
   "execution_count": 6,
   "metadata": {},
   "outputs": [],
   "source": [
    "# m is no of training examples (from 1 to m)\n",
    "m = x.shape[0]\n",
    "# n is no of inputs/features including x0\n",
    "n = x.shape[1]\n",
    "# para is vector of size n initialized to ones\n",
    "para = np.ones((n))"
   ]
  },
  {
   "cell_type": "code",
   "execution_count": null,
   "metadata": {},
   "outputs": [],
   "source": [
    "# these are the failed attemps : \n",
    "'''\n",
    "alpha = pow(10,-1)\n",
    "iterations = 1\n",
    "print(m)\n",
    "print(n)\n",
    "for hello in range(iterations):\n",
    "    JK = np.ones((n))\n",
    "    for j in range(n):\n",
    "        summ=0\n",
    "        for i in range(m):\n",
    "            summ = summ + np.sum(x[i]*para)*x[i][j]\n",
    "        JK[j] = summ\n",
    "    para = para - alpha * JK\n",
    "    alpha = alpha * 0.001\n",
    "    print(hello)\n",
    "print(para)\n",
    "\n",
    "def hypo(i):\n",
    "    return np.sum(para*x[i])\n",
    "alpha = pow(10,-5)\n",
    "consterm = alpha / m\n",
    "step = 0\n",
    "epochs = 100\n",
    "print(\"iterarions:\", end = \" \")\n",
    "print(epochs)\n",
    "print(\"alpha:\", end = \" \")\n",
    "print(alpha)\n",
    "\n",
    "for k in range(epochs):\n",
    "    for j in range(0,n):\n",
    "        for i in range(0,m):\n",
    "            step = step + ((hypo(i)-y[i])*(x[i][j]))\n",
    "        para[j] =para[j] - consterm*step\n",
    "        step = 0\n",
    "    consterm = consterm * 0.1\n",
    "    print(k , end = \" \")\n",
    "\n",
    "print(\" \")\n",
    "print(para)\n",
    "# Values were blowing up.. \n",
    "# This was para after three iteratinons !\n",
    "# [-2.26913336e+27 -4.56691697e+30 -2.62684188e+32 -7.52267778e+28\n",
    "# -4.37734333e+28 -4.36606272e+28 -5.92357781e+28 -4.27664913e+28\n",
    "# -3.50330747e+30 -2.05291208e+29 -1.26962968e+28]\n",
    "# it was suppossed to be heading towards \n",
    "# [-6.67499421e+07  3.35967141e+04 -1.06389502e+00 -4.51495153e+03\n",
    "# -2.19126792e+04 -4.77882723e+04 -1.88765379e+03  1.16746207e+04\n",
    "#  9.34935143e+01  1.26804145e+04 -3.81241777e+04]\n",
    "# reducing alpha wasnt working....\n",
    "\n",
    "'''"
   ]
  },
  {
   "cell_type": "code",
   "execution_count": 8,
   "metadata": {},
   "outputs": [
    {
     "name": "stdout",
     "output_type": "stream",
     "text": [
      "[[ 1.00000000e+00  6.17836502e-04  3.23290670e-02 ... -7.07076607e-02\n",
      "  -4.78958974e-02 -3.46993844e-02]\n",
      " [ 1.00000000e+00  6.17836502e-04  2.15260696e-02 ...  1.31849568e-02\n",
      "   3.24962595e-02 -3.46993844e-02]\n",
      " [ 1.00000000e+00 -3.07074471e-01  2.99990088e-02 ...  1.28493863e-02\n",
      "  -3.70026512e-02 -3.46993844e-02]\n",
      " ...\n",
      " [ 1.00000000e+00 -1.91689856e-01  2.15260696e-02 ... -7.07076607e-02\n",
      "  -4.81682285e-02 -3.46993844e-02]\n",
      " [ 1.00000000e+00 -3.78437020e-02 -1.87203912e-02 ... -2.10432311e-02\n",
      "  -5.87891436e-02 -3.46993844e-02]\n",
      " [ 1.00000000e+00 -3.78437020e-02 -1.87203912e-02 ... -2.10432311e-02\n",
      "  -5.87891436e-02 -3.46993844e-02]]\n"
     ]
    }
   ],
   "source": [
    "# normalizing features\n",
    "for i in range(1,n):\n",
    "    avg = np.sum(x[:,i])/m\n",
    "    ranger = max(x[:,i])- min(x[:,i])\n",
    "    for j in range(m):\n",
    "      x[j,i] = (x[j,i]-avg)/ranger\n",
    "print(x)"
   ]
  },
  {
   "cell_type": "code",
   "execution_count": 9,
   "metadata": {},
   "outputs": [
    {
     "name": "stdout",
     "output_type": "stream",
     "text": [
      "[  649813.72084492   873514.56562901 -2511277.39431106  -135448.54597312\n",
      "  -438253.58438609  -477882.72288427   -75506.15149682   490334.06998172\n",
      "   278610.67266111  4656248.20140303  -457490.13243072]\n"
     ]
    }
   ],
   "source": [
    "#using direct formula\n",
    "parameters = np.dot(np.dot(np.linalg.inv(np.dot(np.transpose(x),x)),np.transpose(x)),y)\n",
    "print(parameters)"
   ]
  },
  {
   "cell_type": "code",
   "execution_count": 10,
   "metadata": {},
   "outputs": [],
   "source": [
    "#using gradient descent / stochastic \n",
    "iterations = 100000\n",
    "alpha = pow(10,-4)"
   ]
  },
  {
   "cell_type": "code",
   "execution_count": 11,
   "metadata": {},
   "outputs": [],
   "source": [
    "for i in range(iterations):\n",
    "    hypo = np.dot(x,para)\n",
    "    para = para - alpha * np.dot(np.transpose(x),(hypo - y))\n",
    "    # mse = np.sum(np.square(hypo-y))/(2*m)"
   ]
  },
  {
   "cell_type": "code",
   "execution_count": 12,
   "metadata": {},
   "outputs": [
    {
     "name": "stdout",
     "output_type": "stream",
     "text": [
      "[-1.16415322e-10  3.72529030e-08  8.37258995e-07  1.80443749e-08\n",
      "  3.84170562e-09  8.49831849e-09 -8.10541678e-09 -8.32369551e-09\n",
      " -1.06345396e-07  2.00234354e-07  3.73111106e-08]\n"
     ]
    }
   ],
   "source": [
    "#prints error\n",
    "print(para-parameters)"
   ]
  },
  {
   "cell_type": "code",
   "execution_count": 13,
   "metadata": {},
   "outputs": [],
   "source": [
    "# wait, for predicting, first take input from user ( UI PART I HATE TO TYPE OUT )\n",
    "#Convert the strings into given codes from this\n",
    "\n",
    "        # CNG=10,   LPG=20,     Deisel=30,      Petrol=40\n",
    "        # Dealer=10,     Individual=20,     trustmark dealer=30\n",
    "        # automatic = 10,      Manual= 20\n",
    "        # testdrive=10    ,1owner=20,     2owner=30,      3owner=40,  4ownerandmore=50\n",
    "# Normalize input data like before\n",
    "# Feed it into hypothesis function , (which multiplies it with para matrix(which we already have calculate in this Source.py))\n",
    "# the output is the predicted price\n"
   ]
  }
 ],
 "metadata": {
  "kernelspec": {
   "display_name": "Python 3",
   "language": "python",
   "name": "python3"
  },
  "language_info": {
   "codemirror_mode": {
    "name": "ipython",
    "version": 3
   },
   "file_extension": ".py",
   "mimetype": "text/x-python",
   "name": "python",
   "nbconvert_exporter": "python",
   "pygments_lexer": "ipython3",
   "version": "3.9.0"
  }
 },
 "nbformat": 4,
 "nbformat_minor": 4
}
